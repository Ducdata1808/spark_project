{
 "cells": [
  {
   "cell_type": "code",
   "execution_count": 1,
   "id": "5edf051b-4eaf-4d6b-8ebd-b1c847b5c6c6",
   "metadata": {
    "tags": []
   },
   "outputs": [],
   "source": [
    "from pyspark.sql import SparkSession"
   ]
  },
  {
   "cell_type": "code",
   "execution_count": 2,
   "id": "66ad5233-0148-4f25-bac1-96bb0fde4f0a",
   "metadata": {
    "tags": []
   },
   "outputs": [],
   "source": [
    "from pyspark.sql.window import Window"
   ]
  },
  {
   "cell_type": "code",
   "execution_count": 3,
   "id": "f53da3d7-6fda-4b56-93e9-65b1128414db",
   "metadata": {
    "tags": []
   },
   "outputs": [],
   "source": [
    "from pyspark.sql.functions import *"
   ]
  },
  {
   "cell_type": "code",
   "execution_count": 4,
   "id": "80665882-62a3-4adc-ad77-f01097444feb",
   "metadata": {
    "tags": []
   },
   "outputs": [],
   "source": [
    "import os"
   ]
  },
  {
   "cell_type": "code",
   "execution_count": 5,
   "id": "d28091e2-55f3-4762-9331-0e1022a84e53",
   "metadata": {
    "tags": []
   },
   "outputs": [],
   "source": [
    "import random"
   ]
  },
  {
   "cell_type": "code",
   "execution_count": 9,
   "id": "6b07e33e-b888-48fe-8a7d-d1d296e40b78",
   "metadata": {
    "tags": []
   },
   "outputs": [],
   "source": [
    "from datetime import datetime, timedelta"
   ]
  },
  {
   "cell_type": "code",
   "execution_count": 6,
   "id": "7cc9e812-6a86-42e3-924e-211f848a3caf",
   "metadata": {
    "tags": []
   },
   "outputs": [
    {
     "name": "stderr",
     "output_type": "stream",
     "text": [
      "25/07/11 02:45:30 WARN SparkSession: Using an existing Spark session; only runtime SQL configurations will take effect.\n"
     ]
    }
   ],
   "source": [
    "spark = SparkSession.builder \\\n",
    ".appName(\"pyspark window functions\") \\\n",
    ".master(\"local[*]\") \\\n",
    ".getOrCreate()"
   ]
  },
  {
   "cell_type": "code",
   "execution_count": 7,
   "id": "5499c51a-ede9-490b-b632-7254b62513cd",
   "metadata": {
    "tags": []
   },
   "outputs": [],
   "source": [
    "name = [\"A\", \"B\", \"C\", \"D\", \"E\", \"F\", \"G\", \"H\", \"I\"]\n",
    "age = [ random.randint(10, 20) for _ in range(len(name))]\n"
   ]
  },
  {
   "cell_type": "code",
   "execution_count": 10,
   "id": "806598fa-1c1b-488c-8f53-02624e1602a6",
   "metadata": {
    "tags": []
   },
   "outputs": [],
   "source": [
    "def generate_random_dates(start_date, end_date, n):\n",
    "    start = datetime.strptime(start_date, \"%Y-%m-%d\")\n",
    "    end = datetime.strptime(end_date, \"%Y-%m-%d\")\n",
    "    delta = end - start\n",
    "\n",
    "    random_dates = [\n",
    "        (start + timedelta(days=random.randint(0, delta.days))).date()\n",
    "        for _ in range(n)\n",
    "    ]\n",
    "    return random_dates"
   ]
  },
  {
   "cell_type": "code",
   "execution_count": 12,
   "id": "096ca418-3d31-4287-9e54-9d7e52f79393",
   "metadata": {
    "tags": []
   },
   "outputs": [],
   "source": [
    "birthday = generate_random_dates(\"2003-01-01\", \"2007-12-31\", len(name))"
   ]
  },
  {
   "cell_type": "code",
   "execution_count": 13,
   "id": "1787dcad-1e15-427b-bc4e-88495bdf2cb3",
   "metadata": {
    "tags": []
   },
   "outputs": [
    {
     "name": "stdout",
     "output_type": "stream",
     "text": [
      "[datetime.date(2003, 8, 18), datetime.date(2006, 5, 10), datetime.date(2004, 6, 2), datetime.date(2003, 6, 10), datetime.date(2007, 8, 29), datetime.date(2007, 1, 17), datetime.date(2006, 7, 19), datetime.date(2005, 4, 22), datetime.date(2004, 11, 15)]\n"
     ]
    }
   ],
   "source": [
    "print(birthday)"
   ]
  },
  {
   "cell_type": "code",
   "execution_count": 14,
   "id": "ef28c3ae-b16c-4250-90ec-f64d2ee54259",
   "metadata": {
    "tags": []
   },
   "outputs": [],
   "source": [
    "column = [\"name\", \"age\", \"birth day\"]"
   ]
  },
  {
   "cell_type": "code",
   "execution_count": null,
   "id": "163664e9-965a-41c0-a4ac-77ab0ac79b1c",
   "metadata": {
    "tags": []
   },
   "outputs": [],
   "source": [
    "spark.stop()"
   ]
  },
  {
   "cell_type": "code",
   "execution_count": null,
   "id": "c2040525-4af9-401e-8a88-b6c9c5f048ca",
   "metadata": {},
   "outputs": [],
   "source": []
  }
 ],
 "metadata": {
  "kernelspec": {
   "display_name": "PySpark",
   "language": "python",
   "name": "pyspark"
  },
  "language_info": {
   "codemirror_mode": {
    "name": "ipython",
    "version": 3
   },
   "file_extension": ".py",
   "mimetype": "text/x-python",
   "name": "python",
   "nbconvert_exporter": "python",
   "pygments_lexer": "ipython3",
   "version": "3.11.8"
  }
 },
 "nbformat": 4,
 "nbformat_minor": 5
}
