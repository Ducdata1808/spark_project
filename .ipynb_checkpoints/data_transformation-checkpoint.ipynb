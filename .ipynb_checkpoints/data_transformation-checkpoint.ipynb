{
 "cells": [
  {
   "cell_type": "code",
   "execution_count": 10,
   "id": "5c168f1c-dbfa-4d8c-9786-42fcfc834954",
   "metadata": {
    "tags": []
   },
   "outputs": [],
   "source": [
    "from pyspark.sql import SparkSession"
   ]
  },
  {
   "cell_type": "code",
   "execution_count": 11,
   "id": "f311184f-743a-43dd-a528-4aedc728181e",
   "metadata": {
    "tags": []
   },
   "outputs": [],
   "source": [
    "from pyspark.sql.functions import *"
   ]
  },
  {
   "cell_type": "code",
   "execution_count": 12,
   "id": "f942f416-9e47-49c7-a006-30dfd4c561b4",
   "metadata": {
    "tags": []
   },
   "outputs": [],
   "source": [
    "import os"
   ]
  },
  {
   "cell_type": "code",
   "execution_count": 13,
   "id": "031e9a2a-7d13-451f-9c63-ec05fbccb729",
   "metadata": {
    "tags": []
   },
   "outputs": [
    {
     "name": "stdout",
     "output_type": "stream",
     "text": [
      "True\n",
      "/\n"
     ]
    }
   ],
   "source": [
    "print(os.path.exists(\"/tmp/brazilian-ecommerce/olist_order_items_dataset.csv\"))\n",
    "print(os.getcwd())\n"
   ]
  },
  {
   "cell_type": "code",
   "execution_count": 14,
   "id": "eac6fddb-2f52-4858-8fb1-bd09081a5018",
   "metadata": {
    "tags": []
   },
   "outputs": [
    {
     "name": "stderr",
     "output_type": "stream",
     "text": [
      "25/07/10 03:09:31 INFO SparkEnv: Registering MapOutputTracker\n",
      "25/07/10 03:09:31 INFO SparkEnv: Registering BlockManagerMaster\n",
      "25/07/10 03:09:31 INFO SparkEnv: Registering BlockManagerMasterHeartbeat\n",
      "25/07/10 03:09:31 INFO SparkEnv: Registering OutputCommitCoordinator\n"
     ]
    }
   ],
   "source": [
    "spark = SparkSession.builder \\\n",
    ".appName(\"Data Transformation\") \\\n",
    ".master(\"local[*]\") \\\n",
    ".getOrCreate()"
   ]
  },
  {
   "cell_type": "code",
   "execution_count": 18,
   "id": "f9a4fa82-6e5e-435c-9817-c1966f9ad3d2",
   "metadata": {
    "tags": []
   },
   "outputs": [
    {
     "name": "stderr",
     "output_type": "stream",
     "text": [
      "                                                                                \r"
     ]
    }
   ],
   "source": [
    "df_order_items = spark.read.csv(\"file://\"+os.path.abspath(\"tmp/brazilian-ecommerce/olist_order_items_dataset.csv\"), header=True, inferSchema=True)"
   ]
  },
  {
   "cell_type": "code",
   "execution_count": 19,
   "id": "e491a254-67ad-4db5-a1fe-c5be12015524",
   "metadata": {
    "tags": []
   },
   "outputs": [
    {
     "name": "stdout",
     "output_type": "stream",
     "text": [
      "+--------------------+-------------+--------------------+--------------------+-------------------+------+-------------+\n",
      "|            order_id|order_item_id|          product_id|           seller_id|shipping_limit_date| price|freight_value|\n",
      "+--------------------+-------------+--------------------+--------------------+-------------------+------+-------------+\n",
      "|00010242fe8c5a6d1...|            1|4244733e06e7ecb49...|48436dade18ac8b2b...|2017-09-19 09:45:35|  58.9|        13.29|\n",
      "|00018f77f2f0320c5...|            1|e5f2d52b802189ee6...|dd7ddc04e1b6c2c61...|2017-05-03 11:05:13| 239.9|        19.93|\n",
      "|000229ec398224ef6...|            1|c777355d18b72b67a...|5b51032eddd242adc...|2018-01-18 14:48:30| 199.0|        17.87|\n",
      "|00024acbcdf0a6daa...|            1|7634da152a4610f15...|9d7a1d34a50524090...|2018-08-15 10:10:18| 12.99|        12.79|\n",
      "|00042b26cf59d7ce6...|            1|ac6c3623068f30de0...|df560393f3a51e745...|2017-02-13 13:57:51| 199.9|        18.14|\n",
      "|00048cc3ae777c65d...|            1|ef92defde845ab845...|6426d21aca402a131...|2017-05-23 03:55:27|  21.9|        12.69|\n",
      "|00054e8431b9d7675...|            1|8d4f2bb7e93e6710a...|7040e82f899a04d1b...|2017-12-14 12:10:31|  19.9|        11.85|\n",
      "|000576fe39319847c...|            1|557d850972a7d6f79...|5996cddab893a4652...|2018-07-10 12:30:45| 810.0|        70.75|\n",
      "|0005a1a1728c9d785...|            1|310ae3c140ff94b03...|a416b6a846a117243...|2018-03-26 18:31:29|145.95|        11.65|\n",
      "|0005f50442cb953dc...|            1|4535b0e1091c278df...|ba143b05f0110f0dc...|2018-07-06 14:10:56| 53.99|         11.4|\n",
      "|00061f2a7bc09da83...|            1|d63c1011f49d98b97...|cc419e0650a3c5ba7...|2018-03-29 22:28:09| 59.99|         8.88|\n",
      "|00063b381e2406b52...|            1|f177554ea93259a5b...|8602a61d680a10a82...|2018-07-31 17:30:39|  45.0|        12.98|\n",
      "|0006ec9db01a64e59...|            1|99a4788cb24856965...|4a3ca9315b744ce9f...|2018-07-26 17:24:20|  74.0|        23.32|\n",
      "|0008288aa423d2a3f...|            1|368c6c730842d7801...|1f50f920176fa81da...|2018-02-21 02:55:52|  49.9|        13.37|\n",
      "|0008288aa423d2a3f...|            2|368c6c730842d7801...|1f50f920176fa81da...|2018-02-21 02:55:52|  49.9|        13.37|\n",
      "|0009792311464db53...|            1|8cab8abac59158715...|530ec6109d11eaaf8...|2018-08-17 12:15:10|  99.9|        27.65|\n",
      "|0009c9a17f916a706...|            1|3f27ac8e699df3d30...|fcb5ace8bcc92f757...|2018-05-02 09:31:53| 639.0|        11.34|\n",
      "|000aed2e25dbad2f9...|            1|4fa33915031a8cde0...|fe2032dab1a61af87...|2018-05-16 20:57:03| 144.0|         8.77|\n",
      "|000c3e6612759851c...|            1|b50c950aba0dcead2...|218d46b86c1881d02...|2017-08-21 03:33:13|  99.0|        13.71|\n",
      "|000e562887b1f2006...|            1|5ed9eaf534f6936b5...|8cbac7e12637ed9cf...|2018-02-28 12:08:37|  25.0|        16.11|\n",
      "+--------------------+-------------+--------------------+--------------------+-------------------+------+-------------+\n",
      "only showing top 20 rows\n",
      "\n"
     ]
    }
   ],
   "source": [
    "df_order_items.show()"
   ]
  },
  {
   "cell_type": "code",
   "execution_count": 21,
   "id": "98ef716e-5732-43ab-9769-024a87825ef3",
   "metadata": {
    "tags": []
   },
   "outputs": [],
   "source": [
    "# create new col\n",
    "df_order_items = df_order_items.withColumn(\"round price\", round(col(\"price\")))"
   ]
  },
  {
   "cell_type": "code",
   "execution_count": 22,
   "id": "7e36ea8a-8e81-49c6-9951-195ff0ec8e36",
   "metadata": {
    "tags": []
   },
   "outputs": [
    {
     "name": "stdout",
     "output_type": "stream",
     "text": [
      "+--------------------+-------------+--------------------+--------------------+-------------------+-----+-------------+-----------+\n",
      "|            order_id|order_item_id|          product_id|           seller_id|shipping_limit_date|price|freight_value|round price|\n",
      "+--------------------+-------------+--------------------+--------------------+-------------------+-----+-------------+-----------+\n",
      "|00010242fe8c5a6d1...|            1|4244733e06e7ecb49...|48436dade18ac8b2b...|2017-09-19 09:45:35| 58.9|        13.29|       59.0|\n",
      "|00018f77f2f0320c5...|            1|e5f2d52b802189ee6...|dd7ddc04e1b6c2c61...|2017-05-03 11:05:13|239.9|        19.93|      240.0|\n",
      "|000229ec398224ef6...|            1|c777355d18b72b67a...|5b51032eddd242adc...|2018-01-18 14:48:30|199.0|        17.87|      199.0|\n",
      "|00024acbcdf0a6daa...|            1|7634da152a4610f15...|9d7a1d34a50524090...|2018-08-15 10:10:18|12.99|        12.79|       13.0|\n",
      "|00042b26cf59d7ce6...|            1|ac6c3623068f30de0...|df560393f3a51e745...|2017-02-13 13:57:51|199.9|        18.14|      200.0|\n",
      "+--------------------+-------------+--------------------+--------------------+-------------------+-----+-------------+-----------+\n",
      "only showing top 5 rows\n",
      "\n"
     ]
    }
   ],
   "source": [
    "df_order_items.show(5)"
   ]
  },
  {
   "cell_type": "code",
   "execution_count": 26,
   "id": "fa57ab00-0128-4f17-ad60-41f12700d5c2",
   "metadata": {
    "tags": []
   },
   "outputs": [],
   "source": [
    "df_products = spark.read.csv(\"file://\"+os.path.abspath(\"tmp/brazilian-ecommerce/olist_products_dataset.csv\"), header=True, inferSchema=True)"
   ]
  },
  {
   "cell_type": "code",
   "execution_count": 27,
   "id": "0718484b-479d-43e7-aa5f-69fad78dcbcd",
   "metadata": {
    "tags": []
   },
   "outputs": [
    {
     "name": "stdout",
     "output_type": "stream",
     "text": [
      "+--------------------+---------------------+-------------------+--------------------------+------------------+----------------+-----------------+-----------------+----------------+\n",
      "|          product_id|product_category_name|product_name_lenght|product_description_lenght|product_photos_qty|product_weight_g|product_length_cm|product_height_cm|product_width_cm|\n",
      "+--------------------+---------------------+-------------------+--------------------------+------------------+----------------+-----------------+-----------------+----------------+\n",
      "|1e9e8ef04dbcff454...|           perfumaria|                 40|                       287|                 1|             225|               16|               10|              14|\n",
      "|3aa071139cb16b67c...|                artes|                 44|                       276|                 1|            1000|               30|               18|              20|\n",
      "|96bd76ec8810374ed...|        esporte_lazer|                 46|                       250|                 1|             154|               18|                9|              15|\n",
      "|cef67bcfe19066a93...|                bebes|                 27|                       261|                 1|             371|               26|                4|              26|\n",
      "|9dc1a7de274444849...| utilidades_domest...|                 37|                       402|                 4|             625|               20|               17|              13|\n",
      "|41d3672d4792049fa...| instrumentos_musi...|                 60|                       745|                 1|             200|               38|                5|              11|\n",
      "|732bd381ad09e530f...|           cool_stuff|                 56|                      1272|                 4|           18350|               70|               24|              44|\n",
      "|2548af3e6e77a690c...|     moveis_decoracao|                 56|                       184|                 2|             900|               40|                8|              40|\n",
      "|37cc742be07708b53...|     eletrodomesticos|                 57|                       163|                 1|             400|               27|               13|              17|\n",
      "|8c92109888e8cdf9d...|           brinquedos|                 36|                      1156|                 1|             600|               17|               10|              12|\n",
      "|14aa47b7fe5c25522...|      cama_mesa_banho|                 54|                       630|                 1|            1100|               16|               10|              16|\n",
      "|03b63c5fc16691530...|                bebes|                 49|                       728|                 4|            7150|               50|               19|              45|\n",
      "|cf55509ea8edaaac1...| instrumentos_musi...|                 43|                      1827|                 3|             250|               17|                7|              17|\n",
      "|7bb6f29c2be577161...|     moveis_decoracao|                 51|                      2083|                 2|             600|               68|               11|              13|\n",
      "|eb31436580a610f20...| construcao_ferram...|                 59|                      1602|                 4|             200|               17|                7|              17|\n",
      "|3bb7f144022e67327...|        esporte_lazer|                 22|                      3021|                 1|             800|               16|                2|              11|\n",
      "|6a2fb4dd53d2cdb88...|           perfumaria|                 39|                       346|                 2|             400|               27|                5|              20|\n",
      "|a1b71017a84f92fd8...| informatica_acess...|                 59|                       636|                 1|             900|               40|               15|              20|\n",
      "|a0736b92e52f6cead...|     moveis_decoracao|                 56|                       296|                 2|            1700|              100|                7|              15|\n",
      "|f53103a77d9cf245e...|      cama_mesa_banho|                 52|                       206|                 1|             500|               16|               10|              16|\n",
      "+--------------------+---------------------+-------------------+--------------------------+------------------+----------------+-----------------+-----------------+----------------+\n",
      "only showing top 20 rows\n",
      "\n"
     ]
    }
   ],
   "source": [
    "df_products.show()"
   ]
  },
  {
   "cell_type": "code",
   "execution_count": 28,
   "id": "653ddb94-f1a6-4365-ba29-f4bcd06f85cd",
   "metadata": {
    "tags": []
   },
   "outputs": [],
   "source": [
    "df_products = df_products.select(col(\"product_id\"), col(\"product_category_name\"))"
   ]
  },
  {
   "cell_type": "code",
   "execution_count": 29,
   "id": "5fed20ca-3d3d-49a9-99f1-cfdc1d97269c",
   "metadata": {
    "tags": []
   },
   "outputs": [
    {
     "name": "stdout",
     "output_type": "stream",
     "text": [
      "+--------------------+---------------------+\n",
      "|          product_id|product_category_name|\n",
      "+--------------------+---------------------+\n",
      "|1e9e8ef04dbcff454...|           perfumaria|\n",
      "|3aa071139cb16b67c...|                artes|\n",
      "|96bd76ec8810374ed...|        esporte_lazer|\n",
      "|cef67bcfe19066a93...|                bebes|\n",
      "|9dc1a7de274444849...| utilidades_domest...|\n",
      "|41d3672d4792049fa...| instrumentos_musi...|\n",
      "|732bd381ad09e530f...|           cool_stuff|\n",
      "|2548af3e6e77a690c...|     moveis_decoracao|\n",
      "|37cc742be07708b53...|     eletrodomesticos|\n",
      "|8c92109888e8cdf9d...|           brinquedos|\n",
      "|14aa47b7fe5c25522...|      cama_mesa_banho|\n",
      "|03b63c5fc16691530...|                bebes|\n",
      "|cf55509ea8edaaac1...| instrumentos_musi...|\n",
      "|7bb6f29c2be577161...|     moveis_decoracao|\n",
      "|eb31436580a610f20...| construcao_ferram...|\n",
      "|3bb7f144022e67327...|        esporte_lazer|\n",
      "|6a2fb4dd53d2cdb88...|           perfumaria|\n",
      "|a1b71017a84f92fd8...| informatica_acess...|\n",
      "|a0736b92e52f6cead...|     moveis_decoracao|\n",
      "|f53103a77d9cf245e...|      cama_mesa_banho|\n",
      "+--------------------+---------------------+\n",
      "only showing top 20 rows\n",
      "\n"
     ]
    }
   ],
   "source": [
    "df_products.show()"
   ]
  },
  {
   "cell_type": "code",
   "execution_count": 30,
   "id": "de0eb9f2-cc56-4941-abd9-4d201328225b",
   "metadata": {
    "tags": []
   },
   "outputs": [],
   "source": [
    "df_order_items = df_order_items.select(col(\"product_id\"), col(\"shipping_limit_date\"), col(\"price\"))"
   ]
  },
  {
   "cell_type": "code",
   "execution_count": 31,
   "id": "8901b60d-645b-4339-97da-69c4e9d4f9d1",
   "metadata": {
    "tags": []
   },
   "outputs": [
    {
     "name": "stdout",
     "output_type": "stream",
     "text": [
      "+--------------------+-------------------+------+\n",
      "|          product_id|shipping_limit_date| price|\n",
      "+--------------------+-------------------+------+\n",
      "|4244733e06e7ecb49...|2017-09-19 09:45:35|  58.9|\n",
      "|e5f2d52b802189ee6...|2017-05-03 11:05:13| 239.9|\n",
      "|c777355d18b72b67a...|2018-01-18 14:48:30| 199.0|\n",
      "|7634da152a4610f15...|2018-08-15 10:10:18| 12.99|\n",
      "|ac6c3623068f30de0...|2017-02-13 13:57:51| 199.9|\n",
      "|ef92defde845ab845...|2017-05-23 03:55:27|  21.9|\n",
      "|8d4f2bb7e93e6710a...|2017-12-14 12:10:31|  19.9|\n",
      "|557d850972a7d6f79...|2018-07-10 12:30:45| 810.0|\n",
      "|310ae3c140ff94b03...|2018-03-26 18:31:29|145.95|\n",
      "|4535b0e1091c278df...|2018-07-06 14:10:56| 53.99|\n",
      "|d63c1011f49d98b97...|2018-03-29 22:28:09| 59.99|\n",
      "|f177554ea93259a5b...|2018-07-31 17:30:39|  45.0|\n",
      "|99a4788cb24856965...|2018-07-26 17:24:20|  74.0|\n",
      "|368c6c730842d7801...|2018-02-21 02:55:52|  49.9|\n",
      "|368c6c730842d7801...|2018-02-21 02:55:52|  49.9|\n",
      "|8cab8abac59158715...|2018-08-17 12:15:10|  99.9|\n",
      "|3f27ac8e699df3d30...|2018-05-02 09:31:53| 639.0|\n",
      "|4fa33915031a8cde0...|2018-05-16 20:57:03| 144.0|\n",
      "|b50c950aba0dcead2...|2017-08-21 03:33:13|  99.0|\n",
      "|5ed9eaf534f6936b5...|2018-02-28 12:08:37|  25.0|\n",
      "+--------------------+-------------------+------+\n",
      "only showing top 20 rows\n",
      "\n"
     ]
    }
   ],
   "source": [
    "df_order_items.show()"
   ]
  },
  {
   "cell_type": "code",
   "execution_count": 32,
   "id": "1a8253f3-2a22-4772-bf7e-bb109ff0179b",
   "metadata": {
    "tags": []
   },
   "outputs": [],
   "source": [
    "new_df = df_order_items.join(df_products, on = \"product_id\", how = \"inner\")"
   ]
  },
  {
   "cell_type": "code",
   "execution_count": 33,
   "id": "3d60bc10-6110-45e2-ab23-8ca8e7a983f5",
   "metadata": {
    "tags": []
   },
   "outputs": [
    {
     "name": "stdout",
     "output_type": "stream",
     "text": [
      "+--------------------+-------------------+------+---------------------+\n",
      "|          product_id|shipping_limit_date| price|product_category_name|\n",
      "+--------------------+-------------------+------+---------------------+\n",
      "|4244733e06e7ecb49...|2017-09-19 09:45:35|  58.9|           cool_stuff|\n",
      "|e5f2d52b802189ee6...|2017-05-03 11:05:13| 239.9|             pet_shop|\n",
      "|c777355d18b72b67a...|2018-01-18 14:48:30| 199.0|     moveis_decoracao|\n",
      "|7634da152a4610f15...|2018-08-15 10:10:18| 12.99|           perfumaria|\n",
      "|ac6c3623068f30de0...|2017-02-13 13:57:51| 199.9|   ferramentas_jardim|\n",
      "|ef92defde845ab845...|2017-05-23 03:55:27|  21.9| utilidades_domest...|\n",
      "|8d4f2bb7e93e6710a...|2017-12-14 12:10:31|  19.9|            telefonia|\n",
      "|557d850972a7d6f79...|2018-07-10 12:30:45| 810.0|   ferramentas_jardim|\n",
      "|310ae3c140ff94b03...|2018-03-26 18:31:29|145.95|         beleza_saude|\n",
      "|4535b0e1091c278df...|2018-07-06 14:10:56| 53.99|      livros_tecnicos|\n",
      "|d63c1011f49d98b97...|2018-03-29 22:28:09| 59.99|         beleza_saude|\n",
      "|f177554ea93259a5b...|2018-07-31 17:30:39|  45.0| fashion_bolsas_e_...|\n",
      "|99a4788cb24856965...|2018-07-26 17:24:20|  74.0|      cama_mesa_banho|\n",
      "|368c6c730842d7801...|2018-02-21 02:55:52|  49.9|   ferramentas_jardim|\n",
      "|368c6c730842d7801...|2018-02-21 02:55:52|  49.9|   ferramentas_jardim|\n",
      "|8cab8abac59158715...|2018-08-17 12:15:10|  99.9|        esporte_lazer|\n",
      "|3f27ac8e699df3d30...|2018-05-02 09:31:53| 639.0|       consoles_games|\n",
      "|4fa33915031a8cde0...|2018-05-16 20:57:03| 144.0|           perfumaria|\n",
      "|b50c950aba0dcead2...|2017-08-21 03:33:13|  99.0|        esporte_lazer|\n",
      "|5ed9eaf534f6936b5...|2018-02-28 12:08:37|  25.0|           cool_stuff|\n",
      "+--------------------+-------------------+------+---------------------+\n",
      "only showing top 20 rows\n",
      "\n"
     ]
    }
   ],
   "source": [
    "new_df.show()"
   ]
  },
  {
   "cell_type": "code",
   "execution_count": null,
   "id": "d116c906-fb72-4224-92b6-3a93e4d9d3ed",
   "metadata": {},
   "outputs": [],
   "source": []
  }
 ],
 "metadata": {
  "kernelspec": {
   "display_name": "PySpark",
   "language": "python",
   "name": "pyspark"
  },
  "language_info": {
   "codemirror_mode": {
    "name": "ipython",
    "version": 3
   },
   "file_extension": ".py",
   "mimetype": "text/x-python",
   "name": "python",
   "nbconvert_exporter": "python",
   "pygments_lexer": "ipython3",
   "version": "3.11.8"
  }
 },
 "nbformat": 4,
 "nbformat_minor": 5
}
