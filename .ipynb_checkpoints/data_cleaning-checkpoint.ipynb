{
 "cells": [
  {
   "cell_type": "code",
   "execution_count": 1,
   "id": "accb376e-f4fb-4177-a028-d79afa40562f",
   "metadata": {
    "tags": []
   },
   "outputs": [],
   "source": [
    "from pyspark.sql import SparkSession\n"
   ]
  },
  {
   "cell_type": "code",
   "execution_count": 2,
   "id": "308df633-0dc8-46b8-ab39-99f13af413e2",
   "metadata": {
    "tags": []
   },
   "outputs": [],
   "source": [
    "from pyspark.sql.functions import *"
   ]
  },
  {
   "cell_type": "code",
   "execution_count": 3,
   "id": "50c400e8-247b-492f-9ea9-497e5ec634bc",
   "metadata": {
    "tags": []
   },
   "outputs": [
    {
     "name": "stderr",
     "output_type": "stream",
     "text": [
      "25/07/09 04:01:23 WARN SparkSession: Using an existing Spark session; only runtime SQL configurations will take effect.\n"
     ]
    }
   ],
   "source": [
    "spark = SparkSession.builder \\\n",
    ".appName(\"Data Cleaning\") \\\n",
    ".master(\"local[*]\") \\\n",
    ".getOrCreate()"
   ]
  },
  {
   "cell_type": "code",
   "execution_count": 4,
   "id": "53c13889-242e-4099-8c5c-1f69cf4287d7",
   "metadata": {
    "tags": []
   },
   "outputs": [
    {
     "name": "stderr",
     "output_type": "stream",
     "text": [
      "                                                                                \r"
     ]
    }
   ],
   "source": [
    "df = spark.read.csv(\"/tmp/brazilian-ecommerce/olist_customers_dataset.csv\", header=True, inferSchema=True)"
   ]
  },
  {
   "cell_type": "code",
   "execution_count": 9,
   "id": "ddc77fda-6f5f-4e7e-b60c-93293036d0ac",
   "metadata": {
    "tags": []
   },
   "outputs": [],
   "source": [
    "# delete null rows\n",
    "df_cleaned = df.dropna()"
   ]
  },
  {
   "cell_type": "code",
   "execution_count": 10,
   "id": "e89f4f19-6ae1-47eb-867b-b2b59c368f39",
   "metadata": {
    "tags": []
   },
   "outputs": [],
   "source": [
    "# replace null value by another value\n",
    "replace_value = 10\n",
    "df = df.fillna({\"customer_id\" : replace_value})"
   ]
  },
  {
   "cell_type": "code",
   "execution_count": 12,
   "id": "c5a62438-cbcc-42a5-90ce-1d72e83af449",
   "metadata": {
    "tags": []
   },
   "outputs": [],
   "source": [
    "# handle duplicate values\n",
    "df = df.dropDuplicates()\n",
    "df = df.dropDuplicates([\"customer_id\", \"customer_city\"])"
   ]
  },
  {
   "cell_type": "code",
   "execution_count": 13,
   "id": "8c1464cd-dfcd-4527-8d90-cca69e89614b",
   "metadata": {
    "tags": []
   },
   "outputs": [],
   "source": [
    "# change data type\n",
    "df = df.withColumn(\"customer_zip_code_prefix\", col(\"customer_zip_code_prefix\").cast(\"float\"))"
   ]
  },
  {
   "cell_type": "code",
   "execution_count": 15,
   "id": "201439f7-a71c-4610-9652-2cd8385cfebc",
   "metadata": {
    "tags": []
   },
   "outputs": [],
   "source": [
    "# filter invalid data\n",
    "df = df.filter((col(\"customer_zip_code_prefix\") > 5000.0) & (col(\"customer_zip_code_prefix\") < 15000.0))"
   ]
  },
  {
   "cell_type": "code",
   "execution_count": 16,
   "id": "db6bf58f-e6b5-46d3-99a4-a53f37e6605e",
   "metadata": {
    "tags": []
   },
   "outputs": [],
   "source": [
    "# handle disunion data\n",
    "df = df.withColumn(\"customer_city\", upper(col(\"customer_city\")))"
   ]
  },
  {
   "cell_type": "code",
   "execution_count": 19,
   "id": "d7cb9121-a496-43dc-9025-edf75c1eb3a3",
   "metadata": {
    "tags": []
   },
   "outputs": [
    {
     "name": "stderr",
     "output_type": "stream",
     "text": [
      "                                                                                \r"
     ]
    }
   ],
   "source": [
    "# handle outliers\n",
    "Q1, Q3 = df.approxQuantile(\"customer_zip_code_prefix\", [0.25, 0.75], 0.01)\n",
    "IQR = Q3 - Q1\n",
    "lower = Q1 - 1.5 * IQR\n",
    "upper = Q3 + 1.5 * IQR\n",
    "\n",
    "df = df.filter((col(\"customer_zip_code_prefix\") >= lower) & (col(\"customer_zip_code_prefix\") <= upper))"
   ]
  },
  {
   "cell_type": "code",
   "execution_count": 20,
   "id": "a1343d35-1b33-4bef-b244-3e91e7e8a143",
   "metadata": {
    "tags": []
   },
   "outputs": [],
   "source": [
    "# rename col\n",
    "df = df.withColumnRenamed(\"customer_city\", \"city\")"
   ]
  },
  {
   "cell_type": "code",
   "execution_count": 4,
   "id": "f1cb70c1-6efa-4057-b1a7-a4533e1812d4",
   "metadata": {
    "tags": []
   },
   "outputs": [
    {
     "name": "stderr",
     "output_type": "stream",
     "text": [
      "                                                                                \r"
     ]
    }
   ],
   "source": [
    "df2 = spark.read.csv(\"/tmp/brazilian-ecommerce/olist_order_items_dataset.csv\", header = True, inferSchema = True)"
   ]
  },
  {
   "cell_type": "code",
   "execution_count": 5,
   "id": "3d900b5e-81da-4a62-ae52-bdf003b26442",
   "metadata": {
    "tags": []
   },
   "outputs": [],
   "source": [
    "# change string to timestap\n",
    "df2 = df2.withColumn(\"shipping_limit_date\", to_timestamp(\"shipping_limit_date\", \"yyyy-MM-dd HH:mm:ss\"))"
   ]
  },
  {
   "cell_type": "code",
   "execution_count": 6,
   "id": "7d1f8acd-1081-4849-ad53-d7348cd6ac22",
   "metadata": {
    "tags": []
   },
   "outputs": [
    {
     "name": "stdout",
     "output_type": "stream",
     "text": [
      "root\n",
      " |-- order_id: string (nullable = true)\n",
      " |-- order_item_id: integer (nullable = true)\n",
      " |-- product_id: string (nullable = true)\n",
      " |-- seller_id: string (nullable = true)\n",
      " |-- shipping_limit_date: timestamp (nullable = true)\n",
      " |-- price: double (nullable = true)\n",
      " |-- freight_value: double (nullable = true)\n",
      "\n"
     ]
    }
   ],
   "source": [
    "df2.printSchema()"
   ]
  },
  {
   "cell_type": "code",
   "execution_count": 8,
   "id": "f5217244-cc86-463e-9e2e-e9f795975322",
   "metadata": {
    "tags": []
   },
   "outputs": [],
   "source": [
    "# handle date and time\n",
    "df2 = df2.withColumn(\"year\", year(\"shipping_limit_date\")) \\\n",
    "       .withColumn(\"month\", month(\"shipping_limit_date\")) \\\n",
    "       .withColumn(\"day\", dayofmonth(\"shipping_limit_date\")) \\\n",
    "       .withColumn(\"hour\", hour(\"shipping_limit_date\"))\n"
   ]
  },
  {
   "cell_type": "code",
   "execution_count": 9,
   "id": "4e45ff3e-5819-4b81-83a2-60a9d381997d",
   "metadata": {
    "tags": []
   },
   "outputs": [
    {
     "name": "stdout",
     "output_type": "stream",
     "text": [
      "+--------------------+-------------+--------------------+--------------------+-------------------+------+-------------+----+-----+---+----+\n",
      "|            order_id|order_item_id|          product_id|           seller_id|shipping_limit_date| price|freight_value|year|month|day|hour|\n",
      "+--------------------+-------------+--------------------+--------------------+-------------------+------+-------------+----+-----+---+----+\n",
      "|00010242fe8c5a6d1...|            1|4244733e06e7ecb49...|48436dade18ac8b2b...|2017-09-19 09:45:35|  58.9|        13.29|2017|    9| 19|   9|\n",
      "|00018f77f2f0320c5...|            1|e5f2d52b802189ee6...|dd7ddc04e1b6c2c61...|2017-05-03 11:05:13| 239.9|        19.93|2017|    5|  3|  11|\n",
      "|000229ec398224ef6...|            1|c777355d18b72b67a...|5b51032eddd242adc...|2018-01-18 14:48:30| 199.0|        17.87|2018|    1| 18|  14|\n",
      "|00024acbcdf0a6daa...|            1|7634da152a4610f15...|9d7a1d34a50524090...|2018-08-15 10:10:18| 12.99|        12.79|2018|    8| 15|  10|\n",
      "|00042b26cf59d7ce6...|            1|ac6c3623068f30de0...|df560393f3a51e745...|2017-02-13 13:57:51| 199.9|        18.14|2017|    2| 13|  13|\n",
      "|00048cc3ae777c65d...|            1|ef92defde845ab845...|6426d21aca402a131...|2017-05-23 03:55:27|  21.9|        12.69|2017|    5| 23|   3|\n",
      "|00054e8431b9d7675...|            1|8d4f2bb7e93e6710a...|7040e82f899a04d1b...|2017-12-14 12:10:31|  19.9|        11.85|2017|   12| 14|  12|\n",
      "|000576fe39319847c...|            1|557d850972a7d6f79...|5996cddab893a4652...|2018-07-10 12:30:45| 810.0|        70.75|2018|    7| 10|  12|\n",
      "|0005a1a1728c9d785...|            1|310ae3c140ff94b03...|a416b6a846a117243...|2018-03-26 18:31:29|145.95|        11.65|2018|    3| 26|  18|\n",
      "|0005f50442cb953dc...|            1|4535b0e1091c278df...|ba143b05f0110f0dc...|2018-07-06 14:10:56| 53.99|         11.4|2018|    7|  6|  14|\n",
      "|00061f2a7bc09da83...|            1|d63c1011f49d98b97...|cc419e0650a3c5ba7...|2018-03-29 22:28:09| 59.99|         8.88|2018|    3| 29|  22|\n",
      "|00063b381e2406b52...|            1|f177554ea93259a5b...|8602a61d680a10a82...|2018-07-31 17:30:39|  45.0|        12.98|2018|    7| 31|  17|\n",
      "|0006ec9db01a64e59...|            1|99a4788cb24856965...|4a3ca9315b744ce9f...|2018-07-26 17:24:20|  74.0|        23.32|2018|    7| 26|  17|\n",
      "|0008288aa423d2a3f...|            1|368c6c730842d7801...|1f50f920176fa81da...|2018-02-21 02:55:52|  49.9|        13.37|2018|    2| 21|   2|\n",
      "|0008288aa423d2a3f...|            2|368c6c730842d7801...|1f50f920176fa81da...|2018-02-21 02:55:52|  49.9|        13.37|2018|    2| 21|   2|\n",
      "|0009792311464db53...|            1|8cab8abac59158715...|530ec6109d11eaaf8...|2018-08-17 12:15:10|  99.9|        27.65|2018|    8| 17|  12|\n",
      "|0009c9a17f916a706...|            1|3f27ac8e699df3d30...|fcb5ace8bcc92f757...|2018-05-02 09:31:53| 639.0|        11.34|2018|    5|  2|   9|\n",
      "|000aed2e25dbad2f9...|            1|4fa33915031a8cde0...|fe2032dab1a61af87...|2018-05-16 20:57:03| 144.0|         8.77|2018|    5| 16|  20|\n",
      "|000c3e6612759851c...|            1|b50c950aba0dcead2...|218d46b86c1881d02...|2017-08-21 03:33:13|  99.0|        13.71|2017|    8| 21|   3|\n",
      "|000e562887b1f2006...|            1|5ed9eaf534f6936b5...|8cbac7e12637ed9cf...|2018-02-28 12:08:37|  25.0|        16.11|2018|    2| 28|  12|\n",
      "+--------------------+-------------+--------------------+--------------------+-------------------+------+-------------+----+-----+---+----+\n",
      "only showing top 20 rows\n",
      "\n"
     ]
    }
   ],
   "source": [
    "df2.show()"
   ]
  },
  {
   "cell_type": "code",
   "execution_count": 10,
   "id": "cd93304c-349c-4134-92eb-c171be183809",
   "metadata": {
    "tags": []
   },
   "outputs": [],
   "source": [
    "spark.stop()"
   ]
  },
  {
   "cell_type": "code",
   "execution_count": null,
   "id": "cba67e6f-e9dc-4202-a4a9-3860001f54f8",
   "metadata": {},
   "outputs": [],
   "source": []
  }
 ],
 "metadata": {
  "kernelspec": {
   "display_name": "PySpark",
   "language": "python",
   "name": "pyspark"
  },
  "language_info": {
   "codemirror_mode": {
    "name": "ipython",
    "version": 3
   },
   "file_extension": ".py",
   "mimetype": "text/x-python",
   "name": "python",
   "nbconvert_exporter": "python",
   "pygments_lexer": "ipython3",
   "version": "3.11.8"
  }
 },
 "nbformat": 4,
 "nbformat_minor": 5
}
