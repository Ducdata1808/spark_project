{
 "cells": [
  {
   "cell_type": "code",
   "execution_count": 3,
   "id": "5c09565c-fae7-4d9a-bca8-cdc51b7fbef1",
   "metadata": {
    "tags": []
   },
   "outputs": [],
   "source": [
    "from pyspark.sql import SparkSession"
   ]
  },
  {
   "cell_type": "code",
   "execution_count": 4,
   "id": "db5239f9-6084-417c-a310-d5cde4a17b2c",
   "metadata": {
    "tags": []
   },
   "outputs": [],
   "source": [
    "from pyspark.sql.functions import *"
   ]
  },
  {
   "cell_type": "code",
   "execution_count": 5,
   "id": "e6db1198-07fa-4693-9cbb-1483120e13ab",
   "metadata": {
    "tags": []
   },
   "outputs": [
    {
     "name": "stderr",
     "output_type": "stream",
     "text": [
      "25/07/09 02:12:53 WARN SparkSession: Using an existing Spark session; only runtime SQL configurations will take effect.\n"
     ]
    }
   ],
   "source": [
    "spark = SparkSession.builder \\\n",
    ".appName(\"Data ingestion\") \\\n",
    ".master(\"yarn\") \\\n",
    ".getOrCreate()"
   ]
  },
  {
   "cell_type": "code",
   "execution_count": 12,
   "id": "13d1ae08-8e11-4122-b954-73724251c17a",
   "metadata": {
    "tags": []
   },
   "outputs": [],
   "source": [
    "# read csv file from hdfs\n",
    "df = spark.read.csv(\"hdfs:///tmp/brazilian-ecommerce/olist_customers_dataset.csv\", header=True, inferSchema=True)"
   ]
  },
  {
   "cell_type": "code",
   "execution_count": 13,
   "id": "0712af3a-d9e0-4514-b4cc-e69f61f69076",
   "metadata": {
    "tags": []
   },
   "outputs": [
    {
     "name": "stdout",
     "output_type": "stream",
     "text": [
      "+--------------------+--------------------+------------------------+--------------------+--------------+\n",
      "|         customer_id|  customer_unique_id|customer_zip_code_prefix|       customer_city|customer_state|\n",
      "+--------------------+--------------------+------------------------+--------------------+--------------+\n",
      "|06b8999e2fba1a1fb...|861eff4711a542e4b...|                   14409|              franca|            SP|\n",
      "|18955e83d337fd6b2...|290c77bc529b7ac93...|                    9790|sao bernardo do c...|            SP|\n",
      "|4e7b3e00288586ebd...|060e732b5b29e8181...|                    1151|           sao paulo|            SP|\n",
      "|b2b6027bc5c5109e5...|259dac757896d24d7...|                    8775|     mogi das cruzes|            SP|\n",
      "|4f2d8ab171c80ec83...|345ecd01c38d18a90...|                   13056|            campinas|            SP|\n",
      "|879864dab9bc30475...|4c93744516667ad3b...|                   89254|      jaragua do sul|            SC|\n",
      "|fd826e7cf63160e53...|addec96d2e059c80c...|                    4534|           sao paulo|            SP|\n",
      "|5e274e7a0c3809e14...|57b2a98a409812fe9...|                   35182|             timoteo|            MG|\n",
      "|5adf08e34b2e99398...|1175e95fb47ddff9d...|                   81560|            curitiba|            PR|\n",
      "|4b7139f34592b3a31...|9afe194fb833f79e3...|                   30575|      belo horizonte|            MG|\n",
      "|9fb35e4ed6f0a14a4...|2a7745e1ed516b289...|                   39400|       montes claros|            MG|\n",
      "|5aa9e4fdd4dfd2095...|2a46fb94aef5cbeeb...|                   20231|      rio de janeiro|            RJ|\n",
      "|b2d1536598b73a9ab...|918dc87cd72cd9f6e...|                   18682|    lencois paulista|            SP|\n",
      "|eabebad39a88bb6f5...|295c05e81917928d7...|                    5704|           sao paulo|            SP|\n",
      "|1f1c7bf1c9b041b29...|3151a81801c838636...|                   95110|       caxias do sul|            RS|\n",
      "|206f3129c0e4d7d0b...|21f748a16f4e1688a...|                   13412|          piracicaba|            SP|\n",
      "|a7c125a0a07b75146...|5c2991dbd08bbf3cf...|                   22750|      rio de janeiro|            RJ|\n",
      "|c5c61596a3b6bd0ce...|b6e99561fe6f34a55...|                    7124|           guarulhos|            SP|\n",
      "|9b8ce803689b3562d...|7f3a72e8f988c6e73...|                    5416|           sao paulo|            SP|\n",
      "|49d0ea0986edde72d...|3e6fd6b2f0d499456...|                   68485|              pacaja|            PA|\n",
      "+--------------------+--------------------+------------------------+--------------------+--------------+\n",
      "only showing top 20 rows\n",
      "\n"
     ]
    }
   ],
   "source": [
    "df.show()"
   ]
  },
  {
   "cell_type": "code",
   "execution_count": null,
   "id": "0bd8d1a9-bfdc-4c02-b506-555bc5d1d706",
   "metadata": {
    "tags": []
   },
   "outputs": [],
   "source": [
    "# read from mySQL"
   ]
  },
  {
   "cell_type": "code",
   "execution_count": 10,
   "id": "fe0e3817-dad5-4a1b-9622-be1738e54fbd",
   "metadata": {
    "tags": []
   },
   "outputs": [],
   "source": [
    "# read from multiple files\n",
    "df_multiple = spark.read.option(\"header\", True).csv(\"hdfs:///tmp/brazilian-ecommerce/*.csv\")"
   ]
  },
  {
   "cell_type": "code",
   "execution_count": 11,
   "id": "129cbe5d-2132-4db9-9280-f0e0fe68457d",
   "metadata": {
    "tags": []
   },
   "outputs": [
    {
     "name": "stdout",
     "output_type": "stream",
     "text": [
      "+---------------------------+-------------------+-------------------+----------------+-----------------+\n",
      "|geolocation_zip_code_prefix|    geolocation_lat|    geolocation_lng|geolocation_city|geolocation_state|\n",
      "+---------------------------+-------------------+-------------------+----------------+-----------------+\n",
      "|                      01037| -23.54562128115268| -46.63929204800168|       sao paulo|               SP|\n",
      "|                      01046|-23.546081127035535| -46.64482029837157|       sao paulo|               SP|\n",
      "|                      01046| -23.54612896641469| -46.64295148361138|       sao paulo|               SP|\n",
      "|                      01041|  -23.5443921648681| -46.63949930627844|       sao paulo|               SP|\n",
      "|                      01035|-23.541577961711493| -46.64160722329613|       sao paulo|               SP|\n",
      "|                      01012|-23.547762303364266| -46.63536053788448|       são paulo|               SP|\n",
      "|                      01047|-23.546273112412678| -46.64122516971552|       sao paulo|               SP|\n",
      "|                      01013|-23.546923208436723|  -46.6342636964915|       sao paulo|               SP|\n",
      "|                      01029|-23.543769055769133| -46.63427784085132|       sao paulo|               SP|\n",
      "|                      01011|-23.547639550320632| -46.63603162315495|       sao paulo|               SP|\n",
      "|                      01013|-23.547325128224376| -46.63418378613892|       sao paulo|               SP|\n",
      "|                      01032| -23.53841810407414|-46.634778375266734|       sao paulo|               SP|\n",
      "|                      01014|-23.546435343326205| -46.63383023397196|       sao paulo|               SP|\n",
      "|                      01012|-23.548945985189434| -46.63467113292871|       sao paulo|               SP|\n",
      "|                      01037|-23.545187340816042| -46.63785524104107|       são paulo|               SP|\n",
      "|                      01046|-23.546081127035535| -46.64482029837157|       sao paulo|               SP|\n",
      "|                      01039|-23.541883009983316| -46.63991946670314|       sao paulo|               SP|\n",
      "|                      01024|-23.541389521053937|-46.629899087812184|       são paulo|               SP|\n",
      "|                      01009| -23.54693540437998| -46.63658792659698|       sao paulo|               SP|\n",
      "|                      01046|-23.545884279214015|-46.643163191240035|       sao paulo|               SP|\n",
      "+---------------------------+-------------------+-------------------+----------------+-----------------+\n",
      "only showing top 20 rows\n",
      "\n"
     ]
    }
   ],
   "source": [
    "df_multiple.show()"
   ]
  },
  {
   "cell_type": "code",
   "execution_count": null,
   "id": "6fb9c199-1abe-4aaa-b7e4-098505bf7473",
   "metadata": {},
   "outputs": [],
   "source": [
    "# read from streaming (real-time)"
   ]
  },
  {
   "cell_type": "code",
   "execution_count": 6,
   "id": "fb48aa88-34f8-488c-9858-c1ef1b978fe8",
   "metadata": {
    "tags": []
   },
   "outputs": [],
   "source": [
    "spark.stop()"
   ]
  },
  {
   "cell_type": "code",
   "execution_count": null,
   "id": "a61853e4-36c9-4d87-b24e-869d2aa07cd8",
   "metadata": {},
   "outputs": [],
   "source": []
  }
 ],
 "metadata": {
  "kernelspec": {
   "display_name": "PySpark",
   "language": "python",
   "name": "pyspark"
  },
  "language_info": {
   "codemirror_mode": {
    "name": "ipython",
    "version": 3
   },
   "file_extension": ".py",
   "mimetype": "text/x-python",
   "name": "python",
   "nbconvert_exporter": "python",
   "pygments_lexer": "ipython3",
   "version": "3.11.8"
  }
 },
 "nbformat": 4,
 "nbformat_minor": 5
}
