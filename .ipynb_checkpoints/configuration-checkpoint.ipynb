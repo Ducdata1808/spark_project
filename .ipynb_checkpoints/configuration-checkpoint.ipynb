{
 "cells": [
  {
   "cell_type": "code",
   "execution_count": 1,
   "id": "187444ef-586a-4a4d-aeff-8852130759cd",
   "metadata": {
    "tags": []
   },
   "outputs": [],
   "source": [
    "from pyspark.sql import SparkSession"
   ]
  },
  {
   "cell_type": "code",
   "execution_count": null,
   "id": "1926083f-2963-4fbb-93fd-a7be5ea262b1",
   "metadata": {
    "tags": []
   },
   "outputs": [],
   "source": [
    "spark = SparkSession.builder \\\n",
    ".appName(\"configuration\") \\# configurate spark\n",
    ".master(\"local[*]\") \\\n",
    ".config(\"spark.executor.memory\", \"2g\") \\# memory for each executor\n",
    ".config(\"spark.driver.memory\", \"2g\") \\# memory for driver\n",
    ".config(\"spark.sql.shuffle.partitions\", \"200\") # number of partitions after shuffle\n",
    ".config(\"spark.sql.autoBroadcastJoinThreshold\", \"10MB\") \\\n",
    ".config(\"spark.executor.cores\", \"2\") \\ # number of cores per executor\n",
    ".config(\"spark.driver.cores\", \"1\") \\ # number of cores per driver\n",
    ".config(\"spark.sql.warehouse.dir\", \"/path\") \\ # default warehouse path for spark SQL\n",
    ".enableHiveSupport() \\ # turn on hive\n",
    ".config(\"spark.serializer\", \"org.apache.spark.serializer.KryoSerializer\") \\\n",
    ".getOrCreate()\n"
   ]
  },
  {
   "cell_type": "code",
   "execution_count": null,
   "id": "966db522-1796-45b5-8fde-0da633081ccb",
   "metadata": {},
   "outputs": [],
   "source": []
  }
 ],
 "metadata": {
  "kernelspec": {
   "display_name": "PySpark",
   "language": "python",
   "name": "pyspark"
  },
  "language_info": {
   "codemirror_mode": {
    "name": "ipython",
    "version": 3
   },
   "file_extension": ".py",
   "mimetype": "text/x-python",
   "name": "python",
   "nbconvert_exporter": "python",
   "pygments_lexer": "ipython3",
   "version": "3.11.8"
  }
 },
 "nbformat": 4,
 "nbformat_minor": 5
}
